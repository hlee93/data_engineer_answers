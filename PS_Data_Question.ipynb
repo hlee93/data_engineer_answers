{
 "cells": [
  {
   "cell_type": "markdown",
   "id": "5f881419-cd7c-4a8d-beec-4ba6894ad03f",
   "metadata": {},
   "source": [
    "<h2>SQL Problem</h2>"
   ]
  },
  {
   "cell_type": "markdown",
   "id": "31f0540f-c3d3-413d-b813-2ec76534429a",
   "metadata": {},
   "source": [
    "**Corrected SQL**\n",
    "\n",
    "SELECT Levels.Level_Name, Players.Rank, COUNT(Players.Rank) AS num_players<br>\n",
    "FROM Players<br> \n",
    "LEFT JOIN Levels ON Levels.Level_ID = Players.Level_ID<br>\n",
    "GROUP BY Levels.Level_Name, Players.Rank;\n",
    "\n",
    "Changes made:\n",
    "- Only selected relevant column names. \n",
    "- Added table references before column names to ensure correct table data pulled.\n",
    "- Added rank to groupby and corrected level name typing error.\n",
    "- Specified the join type required.\n"
   ]
  },
  {
   "cell_type": "markdown",
   "id": "14037997-4683-4653-a593-2836aba7ce95",
   "metadata": {},
   "source": [
    "<h2>Linux Command Problem</h2>"
   ]
  },
  {
   "cell_type": "markdown",
   "id": "2bcc00c6-05b2-4c35-9fa4-947ffe510e90",
   "metadata": {},
   "source": [
    "***for a in yes | nl | head -50 | cut -f 1; do<br>\n",
    "head -$(($a*2)) inputfile | tail -1<br>\n",
    "awk 'BEGIN{FS=\"\\t\"}{print $2}'<br>\n",
    "xargs wget -c 2> /dev/null***\n",
    "\n",
    "\n",
    "- '|' allow multiple procedures to be stringed together\n",
    "- 'for a in yes' will infinitely produce string y, added as a new record to a file by 'n1'\n",
    "- 'head -50 ' prints 50 lines from start of y's\n",
    "- 'cut -f 1' cuts the first field from each record\n",
    "- 'head -$(($a*2))' for each line a, get a two lines from inputfile start.\n",
    "- 'tail -1' prints last line\n",
    "- 'awk 'BEGIN{FS=\"\\t\"}' scans file line by line, identifying columns separated by tabspaces.\n",
    "- 'awk{print $2;}' prints the second field.\n",
    "- 'xargs' converts previous inputs into arguments.\n",
    "- 'wget -c' will download a file from the web. The '-c' option allows the download of a previous partial/interrupted file to continue.\n",
    "- '2> /dev/null' means standard errors (2>) will be sent to /dev/null, deleting the error message.\n",
    "\n",
    "1. First, 50 lines of yes will be created using the first line.\n",
    "2. Then, for each line a, line a*2 is extracted from the start of the document, followed by the last line.\n",
    "3. The file is scanned line by line, identifying fields using tabspace as a delimiter.\n",
    "4. The second column is extracted, printed, then used as arguments for wget.\n",
    "5. If the file already exists partially downloaded, the download will resume, or download starts from scratch for new file.\n",
    "6. Errors are ignored for this procedure.\n",
    "\n",
    "**Simplified Linux Command**\n",
    "\n",
    "- Change the first line to just get the first 50 lines from the head of the input file: head -50 inputfile\n",
    "- Chain with the awk command to get the second column: | awk 'BEGIN{FS=\"\\t\"}{print $2}'\n",
    "- Use arguments one by one to download web files: | xargs -n 1 wget -c 2> /dev/null\n",
    "\n"
   ]
  },
  {
   "cell_type": "markdown",
   "id": "6515355b-eb03-4e6b-9f52-67edbb964895",
   "metadata": {},
   "source": [
    "<h2>PySpark Project</h2>"
   ]
  },
  {
   "cell_type": "code",
   "execution_count": 1,
   "id": "1cd0aca2-7dfc-44ad-8f62-8bf367015adc",
   "metadata": {},
   "outputs": [],
   "source": [
    "#Imports used\n",
    "from pyspark.sql import SparkSession\n",
    "from pyspark.sql.types import StructType\n",
    "from pyspark.sql import functions as F\n",
    "from pyspark.sql.functions import countDistinct\n",
    "import nest_asyncio\n",
    "import tarfile\n",
    "from pyspark.sql.functions import desc\n",
    "from pyspark.sql.window import Window\n",
    "import datetime"
   ]
  },
  {
   "cell_type": "code",
   "execution_count": 2,
   "id": "9dccfaa6-50b7-46d8-81b6-dd28c665c5bd",
   "metadata": {},
   "outputs": [],
   "source": [
    "#nest_asyncio allows pyspark to run error-free in jupyter notebook\n",
    "#start spark session and set params\n",
    "nest_asyncio.apply()\n",
    "sc = SparkSession.builder.appName('PS_Data_Tar2').getOrCreate()"
   ]
  },
  {
   "cell_type": "raw",
   "id": "4af1d7cc-eaf8-442c-a05c-401b47303778",
   "metadata": {},
   "source": [
    "#Code used to crack open the tar file\n",
    "tar = tarfile.open(\"E:/Technical Tests/Plystation Senior Big Data/lastfm-dataset-1K.tar.gz\")\n",
    "tar.extractall()\n",
    "tar.close()"
   ]
  },
  {
   "cell_type": "code",
   "execution_count": 3,
   "id": "2a13bdbc-4820-42ef-88e9-cc13bcd1ed54",
   "metadata": {},
   "outputs": [],
   "source": [
    "#Read data into Pyspark. I ended up using only the song dataset, but kept the user dataset code for reference\n",
    "#userid \\t timestamp \\t musicbrainz-artist-id \\t artist-name \\t musicbrainz-track-id \\t track-name were column names from README\n",
    "column_headers_songs = ['userid', 'timestamp', 'musicbrainz-artist-id', 'artist-name', 'musicbrainz-track-id', 'track-name']\n",
    "df_songs = sc.read.option('header', 'false').option('delimiter', '\\t').csv('lastfm-dataset-1K/userid-timestamp-artid-artname-traid-traname.tsv').toDF(*column_headers_songs)\n",
    "#df_users = sc.read.option('header', 'true').option('delimiter', '\\t').csv('lastfm-dataset-1K/userid-profile.tsv')"
   ]
  },
  {
   "cell_type": "code",
   "execution_count": 4,
   "id": "04c6d3b0-b9a9-4536-8b8d-0816a3454689",
   "metadata": {},
   "outputs": [],
   "source": [
    "#Convert timestamp to correct datatype and deal with null values\n",
    "df_songs_clean = df_songs.fillna('not found')\n",
    "#df_users_clean = df_users.fillna('unknown')\n",
    "df_songs_clean = df_songs_clean.withColumn(\"timestamp\", F.to_timestamp(\"timestamp\"))\n",
    "#df_users_clean = df_users_clean.withColumnRenamed('#id', 'userid')"
   ]
  },
  {
   "cell_type": "code",
   "execution_count": 5,
   "id": "a9d3db72-46ad-4480-b58f-4eb85b6ecbfd",
   "metadata": {},
   "outputs": [
    {
     "name": "stdout",
     "output_type": "stream",
     "text": [
      "+-----------+-------------------+---------------------+---------------+--------------------+--------------------+\n",
      "|     userid|          timestamp|musicbrainz-artist-id|    artist-name|musicbrainz-track-id|          track-name|\n",
      "+-----------+-------------------+---------------------+---------------+--------------------+--------------------+\n",
      "|user_000001|2009-05-05 00:08:57| f1b1cf71-bd35-4e9...|      Deep Dish|           not found|Fuck Me Im Famous...|\n",
      "|user_000001|2009-05-04 14:54:10| a7f7df4a-77d8-4f1...|       坂本龍一|           not found|Composition 0919 ...|\n",
      "|user_000001|2009-05-04 14:52:04| a7f7df4a-77d8-4f1...|       坂本龍一|           not found|Mc2 (Live_2009_4_15)|\n",
      "|user_000001|2009-05-04 14:42:52| a7f7df4a-77d8-4f1...|       坂本龍一|           not found|Hibari (Live_2009...|\n",
      "|user_000001|2009-05-04 14:42:11| a7f7df4a-77d8-4f1...|       坂本龍一|           not found|Mc1 (Live_2009_4_15)|\n",
      "|user_000001|2009-05-04 14:38:31| a7f7df4a-77d8-4f1...|       坂本龍一|           not found|To Stanford (Live...|\n",
      "|user_000001|2009-05-04 14:33:28| a7f7df4a-77d8-4f1...|       坂本龍一|           not found|Improvisation (Li...|\n",
      "|user_000001|2009-05-04 14:23:45| a7f7df4a-77d8-4f1...|       坂本龍一|           not found|Glacier (Live_200...|\n",
      "|user_000001|2009-05-04 14:19:22| a7f7df4a-77d8-4f1...|       坂本龍一|           not found|Parolibre (Live_2...|\n",
      "|user_000001|2009-05-04 14:13:38| a7f7df4a-77d8-4f1...|       坂本龍一|           not found|Bibo No Aozora (L...|\n",
      "|user_000001|2009-05-04 14:06:09| a7f7df4a-77d8-4f1...|       坂本龍一|f7c1f8f8-b935-45e...|The Last Emperor ...|\n",
      "|user_000001|2009-05-04 14:00:48| a7f7df4a-77d8-4f1...|       坂本龍一|           not found|Happyend (Live_20...|\n",
      "|user_000001|2009-05-04 13:55:34| a7f7df4a-77d8-4f1...|       坂本龍一|475d4e50-cebb-4cd...|Tibetan Dance (Ve...|\n",
      "|user_000001|2009-05-04 13:51:26| a7f7df4a-77d8-4f1...|       坂本龍一|           not found|Behind The Mask (...|\n",
      "|user_000001|2009-05-03 16:48:25| ba2f4f3b-0293-4bc...|     Underworld|dc394163-2b78-4b5...|Boy, Boy, Boy (Sw...|\n",
      "|user_000001|2009-05-03 16:37:56| ba2f4f3b-0293-4bc...|     Underworld|340d9a0b-9a43-409...|Crocodile (Innerv...|\n",
      "|user_000001|2009-05-03 16:14:53| a16e47f5-aa54-47f...|Ennio Morricone|0b04407b-f517-4e0...|Ninna Nanna In Bl...|\n",
      "|user_000001|2009-05-03 16:10:18| 463a94f1-2713-40b...|        Minus 8|4e78efc4-e545-47a...|      Elysian Fields|\n",
      "|user_000001|2009-05-03 16:04:31| ad0811ea-e213-451...|      Beanfield|fb51d2c4-cc69-412...|  Planetary Deadlock|\n",
      "|user_000001|2009-05-03 15:56:25| 309e2dfc-678e-4d0...|       Dj Linus|4277434f-e3c2-41a...|Good Morning Love...|\n",
      "+-----------+-------------------+---------------------+---------------+--------------------+--------------------+\n",
      "only showing top 20 rows\n",
      "\n"
     ]
    }
   ],
   "source": [
    "df_songs_clean.show(20)\n",
    "#df_users_clean.show(20)"
   ]
  },
  {
   "cell_type": "code",
   "execution_count": 6,
   "id": "1f21bc7c-e04c-4c2d-a706-fb929d0d9a42",
   "metadata": {},
   "outputs": [
    {
     "name": "stdout",
     "output_type": "stream",
     "text": [
      "+-----------+-------------------+\n",
      "|     userid|unique songs played|\n",
      "+-----------+-------------------+\n",
      "|user_000066|                659|\n",
      "|user_000098|                253|\n",
      "|user_000113|               2072|\n",
      "|user_000372|               4684|\n",
      "|user_000424|               1976|\n",
      "|user_000577|              16768|\n",
      "|user_000708|               4615|\n",
      "|user_000289|                962|\n",
      "|user_000319|               6126|\n",
      "|user_000445|               3588|\n",
      "|user_000794|               5607|\n",
      "|user_000339|               2490|\n",
      "|user_000821|               1834|\n",
      "|user_000171|                431|\n",
      "|user_000182|               9386|\n",
      "|user_000465|               1429|\n",
      "|user_000534|               3823|\n",
      "|user_000706|               4005|\n",
      "|user_000801|               2717|\n",
      "|user_000984|               1618|\n",
      "+-----------+-------------------+\n",
      "only showing top 20 rows\n",
      "\n"
     ]
    }
   ],
   "source": [
    "#count of uniques songs played by each user\n",
    "df_songs_clean.groupBy('userid').agg(countDistinct('track-name').alias('unique songs played')).show(20)"
   ]
  },
  {
   "cell_type": "code",
   "execution_count": 7,
   "id": "1cd36003-1586-4500-bd3a-37e7bdb570ba",
   "metadata": {},
   "outputs": [
    {
     "name": "stdout",
     "output_type": "stream",
     "text": [
      "+--------------------+--------------------+-----+\n",
      "|         artist-name|          track-name|count|\n",
      "+--------------------+--------------------+-----+\n",
      "|  The Postal Service|  Such Great Heights| 3992|\n",
      "|        Boy Division|Love Will Tear Us...| 3663|\n",
      "|           Radiohead|        Karma Police| 3534|\n",
      "|                Muse|Supermassive Blac...| 3483|\n",
      "| Death Cab For Cutie|     Soul Meets Body| 3479|\n",
      "|           The Knife|          Heartbeats| 3156|\n",
      "|                Muse|           Starlight| 3060|\n",
      "|         Arcade Fire|    Rebellion (Lies)| 3048|\n",
      "|      Britney Spears|          Gimme More| 3004|\n",
      "|         The Killers| When You Were Young| 2998|\n",
      "|            Interpol|                Evil| 2989|\n",
      "|          Kanye West|       Love Lockdown| 2950|\n",
      "|      Massive Attack|            Teardrop| 2948|\n",
      "| Death Cab For Cutie|I Will Follow You...| 2947|\n",
      "|                Muse| Time Is Running Out| 2945|\n",
      "|          Bloc Party|             Banquet| 2906|\n",
      "|         Arcade Fire|Neighborhood #1 (...| 2826|\n",
      "|           Radiohead|          All I Need| 2696|\n",
      "|  The Postal Service|      Nothing Better| 2670|\n",
      "|         Snow Patrol|        Chasing Cars| 2667|\n",
      "|           Radiohead|               Creep| 2651|\n",
      "|           Radiohead|             15 Step| 2647|\n",
      "|          Kanye West|           Heartless| 2644|\n",
      "|           Radiohead|                Nude| 2639|\n",
      "|      Britney Spears|           Womanizer| 2635|\n",
      "|      Gnarls Barkley|               Crazy| 2603|\n",
      "|           Radiohead|            Reckoner| 2588|\n",
      "|                Mgmt|     Time To Pretend| 2584|\n",
      "|           Radiohead|    Paranoid Android| 2568|\n",
      "|            Coldplay|       The Scientist| 2563|\n",
      "|      Arctic Monkeys|I Bet You Look Go...| 2557|\n",
      "|               Oasis|          Wonderwall| 2519|\n",
      "|           Radiohead|  Fake Plastic Trees| 2490|\n",
      "|        Joy Division|  She'S Lost Control| 2447|\n",
      "|         Arcade Fire|Neighborhood #3 (...| 2444|\n",
      "|           Radiohead|Jigsaw Falling In...| 2420|\n",
      "|            Coldplay|        Viva La Vida| 2387|\n",
      "|         The Killers|All These Things ...| 2385|\n",
      "|          Kanye West|Welcome To Heartb...| 2376|\n",
      "|        Depeche Mode|   Enjoy The Silence| 2369|\n",
      "|  The Postal Service|The District Slee...| 2365|\n",
      "|     Franz Ferdinand|         Take Me Out| 2355|\n",
      "|          Kanye West|Amazing (Feat. Yo...| 2354|\n",
      "|            Interpol|          Slow Hands| 2344|\n",
      "|                Mgmt|                Kids| 2333|\n",
      "|       José González|          Heartbeats| 2333|\n",
      "|         The Killers|    Somebody Told Me| 2318|\n",
      "|          Pink Floyd|  Wish You Were Here| 2314|\n",
      "|            Interpol|          Obstacle 1| 2313|\n",
      "|     Yeah Yeah Yeahs|                Maps| 2311|\n",
      "|           Radiohead|       Bodysnatchers| 2294|\n",
      "|           The Shins|           New Slang| 2281|\n",
      "|                Muse|  Knights Of Cydonia| 2280|\n",
      "|                Muse|Map Of The Proble...| 2276|\n",
      "|           Radiohead|Everything In Its...| 2275|\n",
      "|                Muse|            Hysteria| 2264|\n",
      "|          Kanye West|Paranoid (Feat. M...| 2261|\n",
      "|           The Shins|    Caring Is Creepy| 2247|\n",
      "|            Coldplay|              Clocks| 2246|\n",
      "|           Radiohead|      House Of Cards| 2243|\n",
      "|              M.I.A.|        Paper Planes| 2240|\n",
      "|         Imogen Heap|       Hide And Seek| 2239|\n",
      "|            Coldplay|         Don'T Panic| 2232|\n",
      "|          Kanye West|        Say You Will| 2229|\n",
      "|             Nirvana|Smells Like Teen ...| 2229|\n",
      "|           Radiohead|        No Surprises| 2227|\n",
      "|             Klaxons|        Golden Skans| 2226|\n",
      "|          Bloc Party|          Blue Light| 2216|\n",
      "|            Coldplay|             Fix You| 2215|\n",
      "|        Jeff Buckley|          Hallelujah| 2210|\n",
      "|     Tv On The Radio|  Staring At The Sun| 2209|\n",
      "|          Kanye West|      Coldest Winter| 2201|\n",
      "|         Arcade Fire|          No Cars Go| 2195|\n",
      "|         The Killers|Smile Like You Me...| 2182|\n",
      "|        Modest Mouse|            Float On| 2178|\n",
      "|       Amy Winehouse|               Rehab| 2167|\n",
      "|          Kanye West|            Bad News| 2163|\n",
      "|            Coldplay|              Yellow| 2158|\n",
      "|                Mgmt|       Electric Feel| 2155|\n",
      "|      Regina Spektor|            Fidelity| 2119|\n",
      "| Death Cab For Cutie|         Summer Skin| 2115|\n",
      "|         Johnny Cash|                Hurt| 2114|\n",
      "|         Arcade Fire|Une Année Sans Lu...| 2111|\n",
      "|         Arcade Fire|             Wake Up| 2108|\n",
      "|          Kanye West|Pinocchio Story (...| 2107|\n",
      "|          Kanye West|             Robocop| 2106|\n",
      "|          Kanye West|See You In My Nig...| 2092|\n",
      "|Red Hot Chili Pep...|         Scar Tissue| 2091|\n",
      "|           Radiohead|Weird Fishes/Arpeggi| 2089|\n",
      "|           Radiohead|Exit Music (For A...| 2088|\n",
      "|  The Postal Service|         Clark Gable| 2088|\n",
      "|       Nelly Furtado|        Say It Right| 2080|\n",
      "|  The Postal Service|    Brand New Colony| 2076|\n",
      "|      Britney Spears|         Piece Of Me| 2071|\n",
      "|      Massive Attack|               Angel| 2071|\n",
      "|            The Fray|  How To Save A Life| 2064|\n",
      "|      Dread Zeppelin|  Stairway To Heaven| 2062|\n",
      "|           Radiohead|           Videotape| 2061|\n",
      "|          Kanye West|       Street Lights| 2051|\n",
      "|         Snow Patrol|                 Run| 2048|\n",
      "+--------------------+--------------------+-----+\n",
      "\n"
     ]
    }
   ],
   "source": [
    "#Show the top 100 most played songs\n",
    "num_times_song_played = df_songs_clean.groupBy('artist-name', 'track-name').count()\n",
    "num_times_song_played.orderBy('count', ascending=False).limit(100).show(100)"
   ]
  },
  {
   "cell_type": "code",
   "execution_count": 8,
   "id": "c27c3115-f0bd-4c55-bd29-75fe8420f1cf",
   "metadata": {},
   "outputs": [
    {
     "name": "stdout",
     "output_type": "stream",
     "text": [
      "+-----------+--------------------+-------------------+-------------------+----------------+----------+\n",
      "|     userid|       tracks_played|    start_timestamp|      end_timestamp|session_duration|session_id|\n",
      "+-----------+--------------------+-------------------+-------------------+----------------+----------+\n",
      "|user_000034|[How Soon Is Now ...|2005-09-15 22:01:31|2005-09-15 22:27:51|            1580|         0|\n",
      "|user_000034|[Memory War, Offi...|2005-09-16 14:30:04|2005-09-16 20:47:41|           22657|         1|\n",
      "|user_000034|[An Honest Mistak...|2005-09-19 20:55:36|2005-09-19 21:30:23|            2087|         2|\n",
      "|user_000034|[Single Again, He...|2005-09-20 14:21:09|2005-09-20 16:07:42|            6393|         3|\n",
      "|user_000034|[Single Again, He...|2005-09-20 16:49:55|2005-09-20 17:22:14|            1939|         4|\n",
      "|user_000034|[Utilitarian, The...|2005-09-21 14:40:01|2005-09-21 15:24:10|            2649|         5|\n",
      "|user_000034|[Single Again, He...|2005-09-21 16:02:10|2005-09-21 17:44:57|            6167|         6|\n",
      "|user_000034|[O Plano Mudou, E...|2005-09-21 19:09:07|2005-09-21 22:39:25|           12618|         7|\n",
      "|user_000034|[Quay Cur, Straig...|2005-09-22 15:08:55|2005-09-22 17:27:00|            8285|         8|\n",
      "|user_000034|[Single Again, He...|2005-09-23 14:21:59|2005-09-23 15:34:31|            4352|         9|\n",
      "|user_000034|[What'S In Store?...|2005-09-23 19:27:55|2005-09-23 20:02:30|            2075|        10|\n",
      "|user_000034|[Single Again, He...|2005-09-23 20:34:20|2005-09-23 23:05:24|            9064|        11|\n",
      "|user_000034|[Neverevereverdid...|2005-09-26 14:46:22|2005-09-26 17:51:00|           11078|        12|\n",
      "|user_000034|[Spit On A Strang...|2005-09-26 19:41:28|2005-09-26 20:52:39|            4271|        13|\n",
      "|user_000034|[Omission, Regret...|2005-09-26 22:23:10|2005-09-26 23:15:29|            3139|        14|\n",
      "|user_000034|[Just Like Honey,...|2005-09-27 14:47:06|2005-09-27 15:16:29|            1763|        15|\n",
      "|user_000034|[Halfway To Crazy...|2005-09-27 15:44:27|2005-09-27 17:32:10|            6463|        16|\n",
      "|user_000034|[Between Planets,...|2005-09-27 18:41:40|2005-09-27 20:25:52|            6252|        17|\n",
      "|user_000034|[Next Exit, Evil,...|2005-09-27 21:10:02|2005-09-27 23:12:14|            7332|        18|\n",
      "|user_000034|[Let The Cool God...|2005-09-28 14:40:10|2005-09-28 17:22:54|            9764|        19|\n",
      "+-----------+--------------------+-------------------+-------------------+----------------+----------+\n",
      "only showing top 20 rows\n",
      "\n"
     ]
    }
   ],
   "source": [
    "#Below shows songs played during user sessions. Also shows length of sessions in seconds.\n",
    "#Initiatlise a window to partition data for faster processing of large datasets. Order partitions by timestamps.\n",
    "window_spec = Window.partitionBy('userid').orderBy('timestamp')\n",
    "# Calculate the time difference between timestamp rows. \n",
    "raw_data_with_time_diff = df_songs_clean.withColumn('time_diff',F.when(F.lag('timestamp', 1).over(window_spec).isNull(), 0).otherwise(F.unix_timestamp('timestamp') - F.unix_timestamp(F.lag('timestamp', 1).over(window_spec))))\n",
    "# Create new column which identifies which time differences fall between 20 mins of each other\n",
    "raw_data_with_sessions = raw_data_with_time_diff.withColumn('new_session', (F.col('time_diff') > 20 * 60).cast('int'))\n",
    "# Calculate session IDs belonging to each user\n",
    "raw_data_with_sessions = raw_data_with_sessions.withColumn('session_id',F.sum('new_session').over(window_spec))\n",
    "# Filter out sessions with less than 20 minutes duration. Add list of tracks played in a session\n",
    "sessions_with_duration = raw_data_with_sessions.groupBy('userid', 'session_id').agg(\n",
    "    F.collect_list('track-name').alias('tracks_played'),\n",
    "    F.min('timestamp').alias('start_timestamp'),\n",
    "    F.max('timestamp').alias('end_timestamp')\n",
    "    ).withColumn(\n",
    "    'session_duration',\n",
    "    (F.unix_timestamp('end_timestamp') - F.unix_timestamp('start_timestamp'))\n",
    "    ).filter(\n",
    "    F.col('session_duration') >= 20 * 60\n",
    "    )\n",
    "#Create new index to remember ordering of session durations before sort\n",
    "sessions_with_duration = sessions_with_duration.drop('session_id').withColumn('session_id', F.monotonically_increasing_id())\n",
    "sessions_with_duration.show()"
   ]
  },
  {
   "cell_type": "code",
   "execution_count": 9,
   "id": "9caaabf1-4ad1-4636-98a4-432481407183",
   "metadata": {},
   "outputs": [
    {
     "name": "stdout",
     "output_type": "stream",
     "text": [
      "+------------+\n",
      "|  session_id|\n",
      "+------------+\n",
      "| 25769825008|\n",
      "| 60129569392|\n",
      "| 25769825315|\n",
      "|103079222335|\n",
      "| 25769824996|\n",
      "| 25769824982|\n",
      "| 25769825029|\n",
      "|103079222315|\n",
      "|197568507219|\n",
      "| 25769825009|\n",
      "+------------+\n",
      "\n"
     ]
    }
   ],
   "source": [
    "#Due to data size and java heap errors, sort performed only on session_id column\n",
    "top_sessions = sessions_with_duration.select('session_id')\n",
    "top_sessions = top_sessions.orderBy(F.col('session_duration').desc())\n",
    "top_sessions = top_sessions.limit(10).drop('session_duration')\n",
    "top_sessions.show()"
   ]
  },
  {
   "cell_type": "code",
   "execution_count": 10,
   "id": "4a5fa0c8-f201-4669-9847-212fc36dfc6d",
   "metadata": {},
   "outputs": [],
   "source": [
    "#If had more time, would like to have filtered per partition by the session_id, then rejoin the partitions for the final dataframe."
   ]
  }
 ],
 "metadata": {
  "kernelspec": {
   "display_name": "Python 3",
   "language": "python",
   "name": "python3"
  },
  "language_info": {
   "codemirror_mode": {
    "name": "ipython",
    "version": 3
   },
   "file_extension": ".py",
   "mimetype": "text/x-python",
   "name": "python",
   "nbconvert_exporter": "python",
   "pygments_lexer": "ipython3",
   "version": "3.9.1"
  }
 },
 "nbformat": 4,
 "nbformat_minor": 5
}
